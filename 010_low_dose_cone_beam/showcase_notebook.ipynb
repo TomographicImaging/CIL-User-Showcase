{
 "cells": [
  {
   "cell_type": "code",
   "execution_count": null,
   "metadata": {},
   "outputs": [],
   "source": [
    "\n",
    "import numpy as np\n",
    "import numba\n",
    "from cil.framework import ImageGeometry, AcquisitionGeometry, DataOrder\n",
    "from cil.utilities.display import show2D, show_geometry, show1D\n",
    "from cil.framework import AcquisitionData\n",
    "from cil.recon import FDK\n",
    "from cil.optimisation.functions import TotalVariation, L2NormSquared, WeightedL2NormSquared, LeastSquares, MixedL21Norm, L1Norm\n",
    "from cil.plugins.tigre import ProjectionOperator\n",
    "from cil.optimisation.algorithms import PDHG, FISTA\n",
    "from cil.optimisation.functions import BlockFunction, Function, IndicatorBox\n",
    "from cil.optimisation.operators import BlockOperator, GradientOperator\n",
    "from cil.utilities.quality_measures import mse\n",
    "from cil.framework import ImageData\n",
    "from cil.processors import  Padder, Slicer\n",
    "import matplotlib.pyplot as plt\n",
    "import json\n",
    "import os\n",
    "from cil.io import NEXUSDataWriter\n",
    "import sys\n",
    "import util\n",
    "from CIL_Wavelets import WaveletOperator, WaveletNorm\n",
    "\n",
    "# set up default colour map for visualisation\n",
    "cmap = \"gray\"\n",
    "\n",
    "# set the backend for FBP and the ProjectionOperator\n",
    "device = 'gpu'"
   ]
  },
  {
   "cell_type": "code",
   "execution_count": null,
   "metadata": {},
   "outputs": [],
   "source": [
    "n_subs = 36\n",
    "gamma = .1\n",
    "epochs = 20\n",
    "alpha = 10\n",
    "rho=.99\n",
    "\n",
    "amin = 0\n",
    "amax = 1.5\n",
    "\n",
    "bbox = [150,230, 120,200]\n",
    "vertical_slice = 170\n",
    "horizontal_y = 180\n",
    "\n",
    "dose = 'low'\n",
    "image_number='0000'\n",
    "filename = f'/opt/data/ICASSP24/train/train/'+image_number+f'_sino_{dose}_dose.npy'\n",
    "clean_image_file=f'/opt/data/ICASSP24/train/train/'+image_number+'_clean_fdk_256.npy'\n",
    "\n",
    "data=np.asarray(np.load(filename,allow_pickle=True), dtype=np.float32)\n",
    "ground_truth=np.asarray(np.load(clean_image_file,allow_pickle=True), dtype=np.float32)\n"
   ]
  },
  {
   "cell_type": "code",
   "execution_count": null,
   "metadata": {},
   "outputs": [],
   "source": [
    "# Set up the geometry needed for the data"
   ]
  },
  {
   "cell_type": "code",
   "execution_count": null,
   "metadata": {},
   "outputs": [],
   "source": [
    "image_size = [300, 300, 300]\n",
    "image_shape = [256, 256, 256]\n",
    "voxel_size = [1.171875, 1.171875, 1.171875]\n",
    "\n",
    "detector_shape = [256, 256]\n",
    "detector_size = [600, 600]\n",
    "pixel_size = [2.34375, 2.34375]\n",
    "\n",
    "distance_source_origin = 575\n",
    "distance_source_detector = 1050\n",
    "\n",
    "#  S---------O------D\n",
    "#\n",
    "\n",
    "angles = np.linspace(0, 2*np.pi, 360, endpoint=False)"
   ]
  }
 ],
 "metadata": {
  "language_info": {
   "name": "python"
  }
 },
 "nbformat": 4,
 "nbformat_minor": 2
}
