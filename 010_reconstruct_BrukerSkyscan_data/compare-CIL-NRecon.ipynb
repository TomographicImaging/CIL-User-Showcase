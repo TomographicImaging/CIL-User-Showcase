{
 "cells": [
  {
   "cell_type": "code",
   "execution_count": 1,
   "id": "53ebeb2e-334f-443f-a519-9ed91eee2fda",
   "metadata": {},
   "outputs": [],
   "source": [
    "# -*- coding: utf-8 -*-\n",
    "#  Copyright 2024 Till Leissner\n",
    "#\n",
    "#  Licensed under the Apache License, Version 2.0 (the \"License\");\n",
    "#  you may not use this file except in compliance with the License.\n",
    "#  You may obtain a copy of the License at\n",
    "#\n",
    "#      http://www.apache.org/licenses/LICENSE-2.0\n",
    "#\n",
    "#  Unless required by applicable law or agreed to in writing, software\n",
    "#  distributed under the License is distributed on an \"AS IS\" BASIS,\n",
    "#  WITHOUT WARRANTIES OR CONDITIONS OF ANY KIND, either express or implied.\n",
    "#  See the License for the specific language governing permissions and\n",
    "#  limitations under the License.\n",
    "#\n",
    "#   Authored by: Till Leissner (University of Southern Denmark)\n",
    "#   Edited by: \n",
    "#\n",
    "#   We acknowledge support from the ESS Lighthouse on Hard Materials in 3D, SOLID, funded by the Danish Agency for Science and Higher Education (grant No. 8144-00002B)."
   ]
  },
  {
   "cell_type": "code",
   "execution_count": 2,
   "id": "05d90a94-9909-4fcc-8661-aca5e5b7e369",
   "metadata": {},
   "outputs": [
    {
     "name": "stdout",
     "output_type": "stream",
     "text": [
      "24.0.0\n"
     ]
    }
   ],
   "source": [
    "### General imports \n",
    "import numpy as np\n",
    "import os\n",
    "import matplotlib.pyplot as plt\n",
    "from ipywidgets import interact\n",
    "import ipywidgets as widgets\n",
    "\n",
    "### Import all CIL components needed\n",
    "import cil\n",
    "from cil.io import TIFFWriter, TIFFStackReader\n",
    "\n",
    "\n",
    "### Import custom helper functions\n",
    "import bruker2cil as bc\n",
    "\n",
    "# This notebook has been tested with CIL version 24.0.0\n",
    "print(cil.__version__)"
   ]
  },
  {
   "cell_type": "markdown",
   "id": "12c63b4a-4013-4ee3-8bcc-a392bfc2089d",
   "metadata": {},
   "source": [
    "# Introduction\n",
    "\n",
    "This notebook compares the reconstruction results obtained with CIL using the showcase notebook *bruker2cil.ipynb* with the results from the proprietar Bruker software NRecon, version 1.7.5.0.\n",
    "\n",
    "The used data sets are available as 7z files in the data folder."
   ]
  },
  {
   "cell_type": "markdown",
   "id": "c58b04b7-a003-4b28-a102-96caed3c1650",
   "metadata": {},
   "source": [
    "# Load data sets\n",
    "\n",
    "## CIL reconstructed dataset"
   ]
  },
  {
   "cell_type": "code",
   "execution_count": 3,
   "id": "02d5c175-499d-4b5e-b275-c46dbf0af7a7",
   "metadata": {},
   "outputs": [
    {
     "name": "stdout",
     "output_type": "stream",
     "text": [
      "(324, 164, 164)\n"
     ]
    }
   ],
   "source": [
    "# 001_Rec_NRecon.7z\n",
    "\n",
    "datadir = './samples/01-switch-small' # Path to the dataset\n",
    "dataset_prefix = '001_'\n",
    "subfolder = dataset_prefix+'Rec'\n",
    "filelist = bc.get_filelist(os.path.join(datadir,subfolder),'001__idx_',num_digits=4,extension='tiff')\n",
    "reader = TIFFStackReader(file_name=filelist)\n",
    "recon_cil = reader.read()\n",
    "recon_cil = recon_cil[77:-85,:,:]\n",
    "print(recon_cil.shape)\n",
    "\n",
    "# Min-Max scaling\n",
    "min_val = np.min(recon_cil)\n",
    "max_val = np.max(recon_cil)\n",
    "recon_nrecon = (recon_cil - min_val) / (max_val - min_val)"
   ]
  },
  {
   "cell_type": "markdown",
   "id": "851278e5-a631-4092-b9dd-adb4d9c3523d",
   "metadata": {},
   "source": [
    "## Bruker Nrecon reconstructed dataset"
   ]
  },
  {
   "cell_type": "code",
   "execution_count": 4,
   "id": "22cb9739-a8de-4a6e-89a2-b402a5334756",
   "metadata": {},
   "outputs": [
    {
     "name": "stdout",
     "output_type": "stream",
     "text": [
      "(324, 164, 164)\n"
     ]
    }
   ],
   "source": [
    "# 001_Rec.7z\n",
    "\n",
    "datadir = './samples/01-switch-small' # Path to the dataset\n",
    "dataset_prefix = '001_'\n",
    "subfolder = dataset_prefix+'Rec_NRecon'\n",
    "filelist = bc.get_filelist(os.path.join(datadir,subfolder),'001_Rec_',num_digits=4,extension='tif')\n",
    "reader = TIFFStackReader(file_name=filelist)\n",
    "recon_nrecon = reader.read()\n",
    "print(recon_nrecon.shape)\n",
    "recon_nrecon=np.flip(recon_nrecon,axis=0)\n",
    "recon_nrecon=np.flip(recon_nrecon,axis=1)\n",
    "\n",
    "# Min-Max scaling\n",
    "min_val = np.min(recon_nrecon)\n",
    "max_val = np.max(recon_nrecon)\n",
    "recon_nrecon = (recon_nrecon - min_val) / (max_val - min_val)"
   ]
  },
  {
   "cell_type": "code",
   "execution_count": 5,
   "id": "c3abceb7-c87a-4320-a068-73042a6fa860",
   "metadata": {},
   "outputs": [],
   "source": [
    "## Plot both data sets"
   ]
  },
  {
   "cell_type": "code",
   "execution_count": 6,
   "id": "66792460-cd6f-4e6b-bd2b-bb0548de766e",
   "metadata": {},
   "outputs": [
    {
     "data": {
      "application/vnd.jupyter.widget-view+json": {
       "model_id": "b75d63ba4faa40b5be55f8fda1c38816",
       "version_major": 2,
       "version_minor": 0
      },
      "text/plain": [
       "interactive(children=(IntSlider(value=81, description='x', max=163), IntSlider(value=81, description='y', max=…"
      ]
     },
     "metadata": {},
     "output_type": "display_data"
    },
    {
     "data": {
      "text/plain": [
       "<function __main__.plot_results(recon1, recon2, x, y, z)>"
      ]
     },
     "execution_count": 6,
     "metadata": {},
     "output_type": "execute_result"
    }
   ],
   "source": [
    "cmap = 'grey'\n",
    "\n",
    "def plot_results(recon1,recon2,x,y,z):\n",
    "    fig, axs = plt.subplots(2, 3)\n",
    "    axs[0,0].imshow(recon1[:,:,x],cmap=cmap)\n",
    "    axs[1,0].imshow(recon2[:,:,x],cmap=cmap)\n",
    "\n",
    "    axs[0,1].imshow(recon1[:,y,:],cmap=cmap)\n",
    "    axs[1,1].imshow(recon2[:,y,:],cmap=cmap)\n",
    "\n",
    "    axs[0,2].imshow(recon1[z,:,:],cmap=cmap)\n",
    "    axs[1,2].imshow(recon2[z,:,:],cmap=cmap)\n",
    "    fig.set_size_inches((12,8))\n",
    "    fig.show\n",
    "\n",
    "#Upper row: CIL 24.0\n",
    "#Lower row: NRecon 1.7.5.0\n",
    "\n",
    "interact(plot_results,\n",
    "         recon1 = widgets.fixed(recon_cil), \\\n",
    "         recon2 = widgets.fixed(recon_nrecon), \\\n",
    "         x = widgets.IntSlider(value=81, min=0, max=163, step=1), \\\n",
    "         y = widgets.IntSlider(value=81, min=0, max=163, step=1), \\\n",
    "         z = widgets.IntSlider(value=161, min=0, max=323, step=1))"
   ]
  },
  {
   "cell_type": "code",
   "execution_count": null,
   "id": "18775639-65ce-4978-a4c1-c504b5b9745a",
   "metadata": {},
   "outputs": [],
   "source": []
  }
 ],
 "metadata": {
  "kernelspec": {
   "display_name": "CIL24",
   "language": "python",
   "name": "cil"
  },
  "language_info": {
   "codemirror_mode": {
    "name": "ipython",
    "version": 3
   },
   "file_extension": ".py",
   "mimetype": "text/x-python",
   "name": "python",
   "nbconvert_exporter": "python",
   "pygments_lexer": "ipython3",
   "version": "3.12.4"
  }
 },
 "nbformat": 4,
 "nbformat_minor": 5
}
