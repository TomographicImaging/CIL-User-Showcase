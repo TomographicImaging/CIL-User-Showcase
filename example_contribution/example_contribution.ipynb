{
 "cells": [
  {
   "cell_type": "code",
   "execution_count": null,
   "id": "0f62c3ce",
   "metadata": {},
   "outputs": [],
   "source": [
    "# -*- coding: utf-8 -*-\n",
    "#  Copyright 2023 United Kingdom Research and Innovation\n",
    "#\n",
    "#  Licensed under the Apache License, Version 2.0 (the \"License\");\n",
    "#  you may not use this file except in compliance with the License.\n",
    "#  You may obtain a copy of the License at\n",
    "#\n",
    "#      http://www.apache.org/licenses/LICENSE-2.0\n",
    "#\n",
    "#  Unless required by applicable law or agreed to in writing, software\n",
    "#  distributed under the License is distributed on an \"AS IS\" BASIS,\n",
    "#  WITHOUT WARRANTIES OR CONDITIONS OF ANY KIND, either express or implied.\n",
    "#  See the License for the specific language governing permissions and\n",
    "#  limitations under the License.\n",
    "#\n",
    "#   Authored by:  Laura Murgatroyd (UKRI-STFC)"
   ]
  },
  {
   "attachments": {},
   "cell_type": "markdown",
   "id": "694dafc7",
   "metadata": {},
   "source": [
    "# Example Contribution \n",
    "\n",
    "### Reconstruction of a Kinder Egg Dataset"
   ]
  },
  {
   "attachments": {},
   "cell_type": "markdown",
   "id": "127515ba",
   "metadata": {},
   "source": [
    "This code reconstructs a 3D cone-beam dataset of a kinder egg, using a subclass of FDK (from `fdk_subclass.py`), after performing Transmission to Absorption Conversion and Centre of Rotation correction.\n",
    "\n"
   ]
  },
  {
   "attachments": {},
   "cell_type": "markdown",
   "id": "e1230abb",
   "metadata": {},
   "source": [
    "### CIL Version 22.2.0"
   ]
  },
  {
   "cell_type": "code",
   "execution_count": null,
   "id": "676f5b73",
   "metadata": {},
   "outputs": [],
   "source": [
    "import cil\n",
    "print(cil.__version__)"
   ]
  },
  {
   "cell_type": "markdown",
   "id": "410eed22",
   "metadata": {},
   "source": [
    "\n",
    "### The Dataset\n",
    "\n",
    "This requires the dataset `egg2.zip` from https://zenodo.org/record/4822516:\n",
    "\n",
    "- https://zenodo.org/record/4822516/files/egg2.zip?download=1\n",
    "\n",
    "\n",
    "Please download the data and update the 'filename' variable below to point to where you have the data saved:"
   ]
  },
  {
   "cell_type": "code",
   "execution_count": null,
   "id": "89d2596e",
   "metadata": {},
   "outputs": [],
   "source": [
    "filename = \"/mnt/materials/SIRF/Fully3D/CIL/Egg/egg2/gruppe 2_2014-03-20_1105_07/tomo-A/gruppe 2_tomo-A.txrm\""
   ]
  },
  {
   "cell_type": "code",
   "execution_count": null,
   "id": "d48350f1",
   "metadata": {},
   "outputs": [],
   "source": [
    "from cil.io import ZEISSDataReader\n",
    "from cil.processors import TransmissionAbsorptionConverter, CentreOfRotationCorrector\n",
    "from fdk_subclass import FDK_subclass\n",
    "from cil.utilities.display import show2D, show_geometry\n",
    "from cil.utilities.jupyter import islicer"
   ]
  },
  {
   "attachments": {},
   "cell_type": "markdown",
   "id": "8bac0c33",
   "metadata": {},
   "source": [
    "Load the projection data, and print the basic info:"
   ]
  },
  {
   "cell_type": "code",
   "execution_count": null,
   "id": "b30864da",
   "metadata": {},
   "outputs": [],
   "source": [
    "\n",
    "data = ZEISSDataReader(file_name=filename).read()\n",
    "print(data)"
   ]
  },
  {
   "cell_type": "code",
   "execution_count": null,
   "id": "156a1649",
   "metadata": {},
   "outputs": [],
   "source": [
    "show_geometry(data.geometry)"
   ]
  },
  {
   "attachments": {},
   "cell_type": "markdown",
   "id": "bf546b1b",
   "metadata": {},
   "source": [
    "View the projections:"
   ]
  },
  {
   "cell_type": "code",
   "execution_count": null,
   "id": "acf157f5",
   "metadata": {},
   "outputs": [],
   "source": [
    "islicer(data)"
   ]
  },
  {
   "attachments": {},
   "cell_type": "markdown",
   "id": "4880c37b",
   "metadata": {},
   "source": [
    "Pre-process the data so that it is ready for reconstructing:"
   ]
  },
  {
   "cell_type": "code",
   "execution_count": null,
   "id": "ad8f9f5a",
   "metadata": {},
   "outputs": [],
   "source": [
    "data = TransmissionAbsorptionConverter()(data)\n",
    "data = CentreOfRotationCorrector.image_sharpness()(data)"
   ]
  },
  {
   "attachments": {},
   "cell_type": "markdown",
   "id": "4899ed4d",
   "metadata": {},
   "source": [
    "Now we are ready to reconstruct!"
   ]
  },
  {
   "cell_type": "code",
   "execution_count": null,
   "id": "858325be",
   "metadata": {},
   "outputs": [],
   "source": [
    "data.reorder(order='tigre') # the recon module uses tigre as the back-end for FDK\n",
    "fdk =  FDK_subclass(data)\n",
    "recon = fdk.run()"
   ]
  },
  {
   "cell_type": "code",
   "execution_count": null,
   "id": "1da1fe3e",
   "metadata": {},
   "outputs": [],
   "source": [
    "show2D(recon, slice_list= [('vertical', 512), ('horizontal_y', 630)])"
   ]
  }
 ],
 "metadata": {
  "kernelspec": {
   "display_name": "Python 3.8.11 ('cil22.0.0')",
   "language": "python",
   "name": "python3"
  },
  "language_info": {
   "codemirror_mode": {
    "name": "ipython",
    "version": 3
   },
   "file_extension": ".py",
   "mimetype": "text/x-python",
   "name": "python",
   "nbconvert_exporter": "python",
   "pygments_lexer": "ipython3",
   "version": "3.8.15"
  },
  "vscode": {
   "interpreter": {
    "hash": "d173adcb8818c1a2fad2c7891b776805f2cf7024afa7edf806266d9ac061bb3a"
   }
  }
 },
 "nbformat": 4,
 "nbformat_minor": 5
}
